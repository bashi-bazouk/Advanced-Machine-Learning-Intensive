{
 "cells": [
  {
   "cell_type": "code",
   "execution_count": 1,
   "metadata": {
    "scrolled": true
   },
   "outputs": [
    {
     "name": "stdout",
     "output_type": "stream",
     "text": [
      "Requirement already satisfied: azure in /Library/Frameworks/Python.framework/Versions/3.6/lib/python3.6/site-packages (4.0.0)\n",
      "Requirement already satisfied: azure-mgmt~=4.0 in /Library/Frameworks/Python.framework/Versions/3.6/lib/python3.6/site-packages (from azure) (4.0.0)\n",
      "Requirement already satisfied: azure-loganalytics~=0.1.0 in /Library/Frameworks/Python.framework/Versions/3.6/lib/python3.6/site-packages (from azure) (0.1.0)\n",
      "Requirement already satisfied: azure-datalake-store~=0.0.18 in /Library/Frameworks/Python.framework/Versions/3.6/lib/python3.6/site-packages (from azure) (0.0.46)\n",
      "Requirement already satisfied: azure-storage-blob~=1.3 in /Library/Frameworks/Python.framework/Versions/3.6/lib/python3.6/site-packages (from azure) (1.5.0)\n",
      "Requirement already satisfied: azure-storage-file~=1.3 in /Library/Frameworks/Python.framework/Versions/3.6/lib/python3.6/site-packages (from azure) (1.4.0)\n",
      "Requirement already satisfied: azure-applicationinsights~=0.1.0 in /Library/Frameworks/Python.framework/Versions/3.6/lib/python3.6/site-packages (from azure) (0.1.0)\n",
      "Requirement already satisfied: azure-eventgrid~=1.1 in /Library/Frameworks/Python.framework/Versions/3.6/lib/python3.6/site-packages (from azure) (1.3.0)\n",
      "Requirement already satisfied: azure-servicefabric~=6.3.0.0 in /Library/Frameworks/Python.framework/Versions/3.6/lib/python3.6/site-packages (from azure) (6.3.0.0)\n",
      "Requirement already satisfied: azure-cosmosdb-table~=1.0 in /Library/Frameworks/Python.framework/Versions/3.6/lib/python3.6/site-packages (from azure) (1.0.5)\n",
      "Requirement already satisfied: azure-graphrbac~=0.40.0 in /Library/Frameworks/Python.framework/Versions/3.6/lib/python3.6/site-packages (from azure) (0.40.0)\n",
      "Requirement already satisfied: azure-servicemanagement-legacy~=0.20.6 in /Library/Frameworks/Python.framework/Versions/3.6/lib/python3.6/site-packages (from azure) (0.20.6)\n",
      "Requirement already satisfied: azure-keyvault~=1.0 in /Library/Frameworks/Python.framework/Versions/3.6/lib/python3.6/site-packages (from azure) (1.1.0)\n",
      "Requirement already satisfied: azure-storage-queue~=1.3 in /Library/Frameworks/Python.framework/Versions/3.6/lib/python3.6/site-packages (from azure) (1.4.0)\n",
      "Requirement already satisfied: azure-batch~=4.1 in /Library/Frameworks/Python.framework/Versions/3.6/lib/python3.6/site-packages (from azure) (4.1.3)\n",
      "Requirement already satisfied: azure-servicebus~=0.21.1 in /Library/Frameworks/Python.framework/Versions/3.6/lib/python3.6/site-packages (from azure) (0.21.1)\n",
      "Requirement already satisfied: azure-mgmt-applicationinsights~=0.1.1 in /Library/Frameworks/Python.framework/Versions/3.6/lib/python3.6/site-packages (from azure-mgmt~=4.0->azure) (0.1.1)\n",
      "Requirement already satisfied: azure-mgmt-sql~=0.9.1 in /Library/Frameworks/Python.framework/Versions/3.6/lib/python3.6/site-packages (from azure-mgmt~=4.0->azure) (0.9.1)\n",
      "Requirement already satisfied: azure-mgmt-marketplaceordering~=0.1.0 in /Library/Frameworks/Python.framework/Versions/3.6/lib/python3.6/site-packages (from azure-mgmt~=4.0->azure) (0.1.0)\n",
      "Requirement already satisfied: azure-mgmt-maps~=0.1.0 in /Library/Frameworks/Python.framework/Versions/3.6/lib/python3.6/site-packages (from azure-mgmt~=4.0->azure) (0.1.0)\n",
      "Requirement already satisfied: azure-mgmt-trafficmanager~=0.50.0 in /Library/Frameworks/Python.framework/Versions/3.6/lib/python3.6/site-packages (from azure-mgmt~=4.0->azure) (0.50.0)\n",
      "Requirement already satisfied: azure-mgmt-batchai~=2.0 in /Library/Frameworks/Python.framework/Versions/3.6/lib/python3.6/site-packages (from azure-mgmt~=4.0->azure) (2.0.0)\n",
      "Requirement already satisfied: azure-mgmt-redis~=5.0 in /Library/Frameworks/Python.framework/Versions/3.6/lib/python3.6/site-packages (from azure-mgmt~=4.0->azure) (5.0.0)\n",
      "Requirement already satisfied: azure-mgmt-compute~=4.0 in /Library/Frameworks/Python.framework/Versions/3.6/lib/python3.6/site-packages (from azure-mgmt~=4.0->azure) (4.6.2)\n",
      "Requirement already satisfied: azure-mgmt-eventhub~=2.1 in /Library/Frameworks/Python.framework/Versions/3.6/lib/python3.6/site-packages (from azure-mgmt~=4.0->azure) (2.6.0)\n",
      "Requirement already satisfied: azure-mgmt-containerinstance~=1.0 in /Library/Frameworks/Python.framework/Versions/3.6/lib/python3.6/site-packages (from azure-mgmt~=4.0->azure) (1.5.0)\n",
      "Requirement already satisfied: azure-mgmt-authorization~=0.50.0 in /Library/Frameworks/Python.framework/Versions/3.6/lib/python3.6/site-packages (from azure-mgmt~=4.0->azure) (0.50.0)\n",
      "Requirement already satisfied: azure-mgmt-containerregistry~=2.1 in /Library/Frameworks/Python.framework/Versions/3.6/lib/python3.6/site-packages (from azure-mgmt~=4.0->azure) (2.8.0)\n",
      "Requirement already satisfied: azure-mgmt-batch~=5.0 in /Library/Frameworks/Python.framework/Versions/3.6/lib/python3.6/site-packages (from azure-mgmt~=4.0->azure) (5.0.1)\n",
      "Requirement already satisfied: azure-mgmt-eventgrid~=1.0 in /Library/Frameworks/Python.framework/Versions/3.6/lib/python3.6/site-packages (from azure-mgmt~=4.0->azure) (1.0.0)\n",
      "Requirement already satisfied: azure-mgmt-web~=0.35.0 in /Library/Frameworks/Python.framework/Versions/3.6/lib/python3.6/site-packages (from azure-mgmt~=4.0->azure) (0.35.0)\n",
      "Requirement already satisfied: azure-mgmt-recoveryservices~=0.3.0 in /Library/Frameworks/Python.framework/Versions/3.6/lib/python3.6/site-packages (from azure-mgmt~=4.0->azure) (0.3.0)\n",
      "Requirement already satisfied: azure-mgmt-machinelearningcompute~=0.4.1 in /Library/Frameworks/Python.framework/Versions/3.6/lib/python3.6/site-packages (from azure-mgmt~=4.0->azure) (0.4.1)\n",
      "Requirement already satisfied: azure-mgmt-consumption~=2.0 in /Library/Frameworks/Python.framework/Versions/3.6/lib/python3.6/site-packages (from azure-mgmt~=4.0->azure) (2.0.0)\n",
      "Requirement already satisfied: azure-mgmt-managementgroups~=0.1.0 in /Library/Frameworks/Python.framework/Versions/3.6/lib/python3.6/site-packages (from azure-mgmt~=4.0->azure) (0.1.0)\n",
      "Requirement already satisfied: azure-mgmt-network~=2.0 in /Library/Frameworks/Python.framework/Versions/3.6/lib/python3.6/site-packages (from azure-mgmt~=4.0->azure) (2.7.0)\n",
      "Requirement already satisfied: azure-mgmt-reservations~=0.2.1 in /Library/Frameworks/Python.framework/Versions/3.6/lib/python3.6/site-packages (from azure-mgmt~=4.0->azure) (0.2.1)\n",
      "Requirement already satisfied: azure-mgmt-recoveryservicesbackup~=0.3.0 in /Library/Frameworks/Python.framework/Versions/3.6/lib/python3.6/site-packages (from azure-mgmt~=4.0->azure) (0.3.0)\n",
      "Requirement already satisfied: azure-mgmt-logic~=3.0 in /Library/Frameworks/Python.framework/Versions/3.6/lib/python3.6/site-packages (from azure-mgmt~=4.0->azure) (3.0.0)\n",
      "Requirement already satisfied: azure-mgmt-datafactory~=0.6.0 in /Library/Frameworks/Python.framework/Versions/3.6/lib/python3.6/site-packages (from azure-mgmt~=4.0->azure) (0.6.0)\n",
      "Requirement already satisfied: azure-mgmt-commerce~=1.0 in /Library/Frameworks/Python.framework/Versions/3.6/lib/python3.6/site-packages (from azure-mgmt~=4.0->azure) (1.0.1)\n",
      "Requirement already satisfied: azure-mgmt-subscription~=0.2.0 in /Library/Frameworks/Python.framework/Versions/3.6/lib/python3.6/site-packages (from azure-mgmt~=4.0->azure) (0.2.0)\n",
      "Requirement already satisfied: azure-mgmt-monitor~=0.5.2 in /Library/Frameworks/Python.framework/Versions/3.6/lib/python3.6/site-packages (from azure-mgmt~=4.0->azure) (0.5.2)\n",
      "Requirement already satisfied: azure-mgmt-devtestlabs~=2.2 in /Library/Frameworks/Python.framework/Versions/3.6/lib/python3.6/site-packages (from azure-mgmt~=4.0->azure) (2.2.0)\n",
      "Requirement already satisfied: azure-mgmt-msi~=0.2.0 in /Library/Frameworks/Python.framework/Versions/3.6/lib/python3.6/site-packages (from azure-mgmt~=4.0->azure) (0.2.0)\n",
      "Requirement already satisfied: azure-mgmt-search~=2.0 in /Library/Frameworks/Python.framework/Versions/3.6/lib/python3.6/site-packages (from azure-mgmt~=4.0->azure) (2.1.0)\n",
      "Requirement already satisfied: azure-mgmt-cosmosdb~=0.4.1 in /Library/Frameworks/Python.framework/Versions/3.6/lib/python3.6/site-packages (from azure-mgmt~=4.0->azure) (0.4.1)\n",
      "Requirement already satisfied: azure-mgmt-loganalytics~=0.2.0 in /Library/Frameworks/Python.framework/Versions/3.6/lib/python3.6/site-packages (from azure-mgmt~=4.0->azure) (0.2.0)\n",
      "Requirement already satisfied: azure-mgmt-cognitiveservices~=3.0 in /Library/Frameworks/Python.framework/Versions/3.6/lib/python3.6/site-packages (from azure-mgmt~=4.0->azure) (3.0.0)\n",
      "Requirement already satisfied: azure-mgmt-iotcentral~=0.1.0 in /Library/Frameworks/Python.framework/Versions/3.6/lib/python3.6/site-packages (from azure-mgmt~=4.0->azure) (0.1.0)\n",
      "Requirement already satisfied: azure-mgmt-iothub~=0.5.0 in /Library/Frameworks/Python.framework/Versions/3.6/lib/python3.6/site-packages (from azure-mgmt~=4.0->azure) (0.5.0)\n",
      "Requirement already satisfied: azure-mgmt-iothubprovisioningservices~=0.2.0 in /Library/Frameworks/Python.framework/Versions/3.6/lib/python3.6/site-packages (from azure-mgmt~=4.0->azure) (0.2.0)\n",
      "Requirement already satisfied: azure-mgmt-servicebus~=0.5.1 in /Library/Frameworks/Python.framework/Versions/3.6/lib/python3.6/site-packages (from azure-mgmt~=4.0->azure) (0.5.3)\n"
     ]
    },
    {
     "name": "stdout",
     "output_type": "stream",
     "text": [
      "Requirement already satisfied: azure-mgmt-storage~=2.0 in /Library/Frameworks/Python.framework/Versions/3.6/lib/python3.6/site-packages (from azure-mgmt~=4.0->azure) (2.0.0)\n",
      "Requirement already satisfied: azure-mgmt-billing~=0.2.0 in /Library/Frameworks/Python.framework/Versions/3.6/lib/python3.6/site-packages (from azure-mgmt~=4.0->azure) (0.2.0)\n",
      "Requirement already satisfied: azure-mgmt-keyvault~=1.0 in /Library/Frameworks/Python.framework/Versions/3.6/lib/python3.6/site-packages (from azure-mgmt~=4.0->azure) (1.1.0)\n",
      "Requirement already satisfied: azure-mgmt-datalake-analytics~=0.6.0 in /Library/Frameworks/Python.framework/Versions/3.6/lib/python3.6/site-packages (from azure-mgmt~=4.0->azure) (0.6.0)\n",
      "Requirement already satisfied: azure-mgmt-dns~=2.0 in /Library/Frameworks/Python.framework/Versions/3.6/lib/python3.6/site-packages (from azure-mgmt~=4.0->azure) (2.1.0)\n",
      "Requirement already satisfied: azure-mgmt-datalake-store~=0.5.0 in /Library/Frameworks/Python.framework/Versions/3.6/lib/python3.6/site-packages (from azure-mgmt~=4.0->azure) (0.5.0)\n",
      "Requirement already satisfied: azure-mgmt-policyinsights~=0.1.0 in /Library/Frameworks/Python.framework/Versions/3.6/lib/python3.6/site-packages (from azure-mgmt~=4.0->azure) (0.1.0)\n",
      "Requirement already satisfied: azure-mgmt-containerservice~=4.2 in /Library/Frameworks/Python.framework/Versions/3.6/lib/python3.6/site-packages (from azure-mgmt~=4.0->azure) (4.4.0)\n",
      "Requirement already satisfied: azure-mgmt-devspaces~=0.1.0 in /Library/Frameworks/Python.framework/Versions/3.6/lib/python3.6/site-packages (from azure-mgmt~=4.0->azure) (0.1.0)\n",
      "Requirement already satisfied: azure-mgmt-managementpartner~=0.1.0 in /Library/Frameworks/Python.framework/Versions/3.6/lib/python3.6/site-packages (from azure-mgmt~=4.0->azure) (0.1.1)\n",
      "Requirement already satisfied: azure-mgmt-powerbiembedded~=2.0 in /Library/Frameworks/Python.framework/Versions/3.6/lib/python3.6/site-packages (from azure-mgmt~=4.0->azure) (2.0.0)\n",
      "Requirement already satisfied: azure-mgmt-datamigration~=1.0 in /Library/Frameworks/Python.framework/Versions/3.6/lib/python3.6/site-packages (from azure-mgmt~=4.0->azure) (1.0.0)\n",
      "Requirement already satisfied: azure-mgmt-relay~=0.1.0 in /Library/Frameworks/Python.framework/Versions/3.6/lib/python3.6/site-packages (from azure-mgmt~=4.0->azure) (0.1.0)\n",
      "Requirement already satisfied: azure-mgmt-scheduler~=2.0 in /Library/Frameworks/Python.framework/Versions/3.6/lib/python3.6/site-packages (from azure-mgmt~=4.0->azure) (2.0.0)\n",
      "Requirement already satisfied: azure-mgmt-servicefabric~=0.2.0 in /Library/Frameworks/Python.framework/Versions/3.6/lib/python3.6/site-packages (from azure-mgmt~=4.0->azure) (0.2.0)\n",
      "Requirement already satisfied: azure-mgmt-resource~=2.0 in /Library/Frameworks/Python.framework/Versions/3.6/lib/python3.6/site-packages (from azure-mgmt~=4.0->azure) (2.2.0)\n",
      "Requirement already satisfied: azure-mgmt-hanaonazure~=0.1.1 in /Library/Frameworks/Python.framework/Versions/3.6/lib/python3.6/site-packages (from azure-mgmt~=4.0->azure) (0.1.1)\n",
      "Requirement already satisfied: azure-mgmt-notificationhubs~=2.0 in /Library/Frameworks/Python.framework/Versions/3.6/lib/python3.6/site-packages (from azure-mgmt~=4.0->azure) (2.1.0)\n",
      "Requirement already satisfied: azure-mgmt-media~=1.0.0rc2 in /Library/Frameworks/Python.framework/Versions/3.6/lib/python3.6/site-packages (from azure-mgmt~=4.0->azure) (1.0.0)\n",
      "Requirement already satisfied: azure-mgmt-rdbms~=1.2 in /Library/Frameworks/Python.framework/Versions/3.6/lib/python3.6/site-packages (from azure-mgmt~=4.0->azure) (1.9.0)\n",
      "Requirement already satisfied: azure-mgmt-signalr~=0.1.0 in /Library/Frameworks/Python.framework/Versions/3.6/lib/python3.6/site-packages (from azure-mgmt~=4.0->azure) (0.1.1)\n",
      "Requirement already satisfied: azure-mgmt-cdn~=3.0 in /Library/Frameworks/Python.framework/Versions/3.6/lib/python3.6/site-packages (from azure-mgmt~=4.0->azure) (3.1.0)\n",
      "Requirement already satisfied: azure-mgmt-advisor~=1.0 in /Library/Frameworks/Python.framework/Versions/3.6/lib/python3.6/site-packages (from azure-mgmt~=4.0->azure) (1.0.1)\n",
      "Requirement already satisfied: msrest<2.0.0,>=0.4.29 in /Library/Frameworks/Python.framework/Versions/3.6/lib/python3.6/site-packages (from azure-loganalytics~=0.1.0->azure) (0.6.8)\n",
      "Requirement already satisfied: azure-common~=1.1 in /Library/Frameworks/Python.framework/Versions/3.6/lib/python3.6/site-packages (from azure-loganalytics~=0.1.0->azure) (1.1.23)\n",
      "Requirement already satisfied: azure-nspkg>=2.0.0 in /Library/Frameworks/Python.framework/Versions/3.6/lib/python3.6/site-packages (from azure-loganalytics~=0.1.0->azure) (3.0.2)\n",
      "Requirement already satisfied: requests>=2.20.0 in /Library/Frameworks/Python.framework/Versions/3.6/lib/python3.6/site-packages (from azure-datalake-store~=0.0.18->azure) (2.22.0)\n",
      "Requirement already satisfied: adal>=0.4.2 in /Library/Frameworks/Python.framework/Versions/3.6/lib/python3.6/site-packages (from azure-datalake-store~=0.0.18->azure) (1.2.2)\n",
      "Requirement already satisfied: cffi in /Library/Frameworks/Python.framework/Versions/3.6/lib/python3.6/site-packages (from azure-datalake-store~=0.0.18->azure) (1.12.3)\n",
      "Requirement already satisfied: azure-storage-common~=1.4 in /Library/Frameworks/Python.framework/Versions/3.6/lib/python3.6/site-packages (from azure-storage-blob~=1.3->azure) (1.4.2)\n",
      "Requirement already satisfied: msrestazure<2.0.0,>=0.4.32 in /Library/Frameworks/Python.framework/Versions/3.6/lib/python3.6/site-packages (from azure-eventgrid~=1.1->azure) (0.6.1)\n",
      "Requirement already satisfied: python-dateutil in /Library/Frameworks/Python.framework/Versions/3.6/lib/python3.6/site-packages (from azure-cosmosdb-table~=1.0->azure) (2.8.0)\n",
      "Requirement already satisfied: azure-cosmosdb-nspkg>=2.0.0 in /Library/Frameworks/Python.framework/Versions/3.6/lib/python3.6/site-packages (from azure-cosmosdb-table~=1.0->azure) (2.0.2)\n",
      "Requirement already satisfied: cryptography in /Library/Frameworks/Python.framework/Versions/3.6/lib/python3.6/site-packages (from azure-cosmosdb-table~=1.0->azure) (2.7)\n",
      "Requirement already satisfied: azure-mgmt-nspkg>=2.0.0 in /Library/Frameworks/Python.framework/Versions/3.6/lib/python3.6/site-packages (from azure-mgmt-applicationinsights~=0.1.1->azure-mgmt~=4.0->azure) (3.0.2)\n",
      "Requirement already satisfied: azure-mgmt-datalake-nspkg>=2.0.0 in /Library/Frameworks/Python.framework/Versions/3.6/lib/python3.6/site-packages (from azure-mgmt-datalake-analytics~=0.6.0->azure-mgmt~=4.0->azure) (3.0.1)\n",
      "Requirement already satisfied: certifi>=2017.4.17 in /Library/Frameworks/Python.framework/Versions/3.6/lib/python3.6/site-packages (from msrest<2.0.0,>=0.4.29->azure-loganalytics~=0.1.0->azure) (2019.6.16)\n",
      "Requirement already satisfied: isodate>=0.6.0 in /Library/Frameworks/Python.framework/Versions/3.6/lib/python3.6/site-packages (from msrest<2.0.0,>=0.4.29->azure-loganalytics~=0.1.0->azure) (0.6.0)\n",
      "Requirement already satisfied: requests-oauthlib>=0.5.0 in /Library/Frameworks/Python.framework/Versions/3.6/lib/python3.6/site-packages (from msrest<2.0.0,>=0.4.29->azure-loganalytics~=0.1.0->azure) (1.2.0)\n",
      "Requirement already satisfied: chardet<3.1.0,>=3.0.2 in /Library/Frameworks/Python.framework/Versions/3.6/lib/python3.6/site-packages (from requests>=2.20.0->azure-datalake-store~=0.0.18->azure) (3.0.4)\n",
      "Requirement already satisfied: urllib3!=1.25.0,!=1.25.1,<1.26,>=1.21.1 in /Library/Frameworks/Python.framework/Versions/3.6/lib/python3.6/site-packages (from requests>=2.20.0->azure-datalake-store~=0.0.18->azure) (1.25.3)\n",
      "Requirement already satisfied: idna<2.9,>=2.5 in /Library/Frameworks/Python.framework/Versions/3.6/lib/python3.6/site-packages (from requests>=2.20.0->azure-datalake-store~=0.0.18->azure) (2.8)\n",
      "Requirement already satisfied: PyJWT>=1.0.0 in /Library/Frameworks/Python.framework/Versions/3.6/lib/python3.6/site-packages (from adal>=0.4.2->azure-datalake-store~=0.0.18->azure) (1.7.1)\n",
      "Requirement already satisfied: pycparser in /Library/Frameworks/Python.framework/Versions/3.6/lib/python3.6/site-packages (from cffi->azure-datalake-store~=0.0.18->azure) (2.19)\n",
      "Requirement already satisfied: six>=1.5 in /Library/Frameworks/Python.framework/Versions/3.6/lib/python3.6/site-packages (from python-dateutil->azure-cosmosdb-table~=1.0->azure) (1.12.0)\n",
      "Requirement already satisfied: asn1crypto>=0.21.0 in /Library/Frameworks/Python.framework/Versions/3.6/lib/python3.6/site-packages (from cryptography->azure-cosmosdb-table~=1.0->azure) (0.24.0)\n",
      "Requirement already satisfied: oauthlib>=3.0.0 in /Library/Frameworks/Python.framework/Versions/3.6/lib/python3.6/site-packages (from requests-oauthlib>=0.5.0->msrest<2.0.0,>=0.4.29->azure-loganalytics~=0.1.0->azure) (3.0.2)\n"
     ]
    },
    {
     "name": "stdout",
     "output_type": "stream",
     "text": [
      "Collecting azure-cognitiveservices\n",
      "\u001b[31m  ERROR: Could not find a version that satisfies the requirement azure-cognitiveservices (from versions: none)\u001b[0m\n",
      "\u001b[31mERROR: No matching distribution found for azure-cognitiveservices\u001b[0m\n",
      "Requirement already satisfied: azure-cognitiveservices-search-imagesearch in /Library/Frameworks/Python.framework/Versions/3.6/lib/python3.6/site-packages (1.0.0)\n",
      "Requirement already satisfied: azure-common~=1.1 in /Library/Frameworks/Python.framework/Versions/3.6/lib/python3.6/site-packages (from azure-cognitiveservices-search-imagesearch) (1.1.23)\n",
      "Requirement already satisfied: msrest<2.0.0,>=0.4.28 in /Library/Frameworks/Python.framework/Versions/3.6/lib/python3.6/site-packages (from azure-cognitiveservices-search-imagesearch) (0.6.8)\n",
      "Requirement already satisfied: azure-cognitiveservices-search-nspkg>=2.0.0 in /Library/Frameworks/Python.framework/Versions/3.6/lib/python3.6/site-packages (from azure-cognitiveservices-search-imagesearch) (3.0.1)\n",
      "Requirement already satisfied: requests~=2.16 in /Library/Frameworks/Python.framework/Versions/3.6/lib/python3.6/site-packages (from msrest<2.0.0,>=0.4.28->azure-cognitiveservices-search-imagesearch) (2.22.0)\n",
      "Requirement already satisfied: isodate>=0.6.0 in /Library/Frameworks/Python.framework/Versions/3.6/lib/python3.6/site-packages (from msrest<2.0.0,>=0.4.28->azure-cognitiveservices-search-imagesearch) (0.6.0)\n",
      "Requirement already satisfied: certifi>=2017.4.17 in /Library/Frameworks/Python.framework/Versions/3.6/lib/python3.6/site-packages (from msrest<2.0.0,>=0.4.28->azure-cognitiveservices-search-imagesearch) (2019.6.16)\n",
      "Requirement already satisfied: requests-oauthlib>=0.5.0 in /Library/Frameworks/Python.framework/Versions/3.6/lib/python3.6/site-packages (from msrest<2.0.0,>=0.4.28->azure-cognitiveservices-search-imagesearch) (1.2.0)\n",
      "Requirement already satisfied: azure-cognitiveservices-nspkg>=3.0.0 in /Library/Frameworks/Python.framework/Versions/3.6/lib/python3.6/site-packages (from azure-cognitiveservices-search-nspkg>=2.0.0->azure-cognitiveservices-search-imagesearch) (3.0.1)\n",
      "Requirement already satisfied: idna<2.9,>=2.5 in /Library/Frameworks/Python.framework/Versions/3.6/lib/python3.6/site-packages (from requests~=2.16->msrest<2.0.0,>=0.4.28->azure-cognitiveservices-search-imagesearch) (2.8)\n",
      "Requirement already satisfied: chardet<3.1.0,>=3.0.2 in /Library/Frameworks/Python.framework/Versions/3.6/lib/python3.6/site-packages (from requests~=2.16->msrest<2.0.0,>=0.4.28->azure-cognitiveservices-search-imagesearch) (3.0.4)\n",
      "Requirement already satisfied: urllib3!=1.25.0,!=1.25.1,<1.26,>=1.21.1 in /Library/Frameworks/Python.framework/Versions/3.6/lib/python3.6/site-packages (from requests~=2.16->msrest<2.0.0,>=0.4.28->azure-cognitiveservices-search-imagesearch) (1.25.3)\n",
      "Requirement already satisfied: six in /Library/Frameworks/Python.framework/Versions/3.6/lib/python3.6/site-packages (from isodate>=0.6.0->msrest<2.0.0,>=0.4.28->azure-cognitiveservices-search-imagesearch) (1.12.0)\n",
      "Requirement already satisfied: oauthlib>=3.0.0 in /Library/Frameworks/Python.framework/Versions/3.6/lib/python3.6/site-packages (from requests-oauthlib>=0.5.0->msrest<2.0.0,>=0.4.28->azure-cognitiveservices-search-imagesearch) (3.0.2)\n",
      "Requirement already satisfied: azure-nspkg>=3.0.0 in /Library/Frameworks/Python.framework/Versions/3.6/lib/python3.6/site-packages (from azure-cognitiveservices-nspkg>=3.0.0->azure-cognitiveservices-search-nspkg>=2.0.0->azure-cognitiveservices-search-imagesearch) (3.0.2)\n",
      "Requirement already satisfied: msrest in /Library/Frameworks/Python.framework/Versions/3.6/lib/python3.6/site-packages (0.6.8)\n",
      "Requirement already satisfied: isodate>=0.6.0 in /Library/Frameworks/Python.framework/Versions/3.6/lib/python3.6/site-packages (from msrest) (0.6.0)\n",
      "Requirement already satisfied: certifi>=2017.4.17 in /Library/Frameworks/Python.framework/Versions/3.6/lib/python3.6/site-packages (from msrest) (2019.6.16)\n",
      "Requirement already satisfied: requests-oauthlib>=0.5.0 in /Library/Frameworks/Python.framework/Versions/3.6/lib/python3.6/site-packages (from msrest) (1.2.0)\n",
      "Requirement already satisfied: requests~=2.16 in /Library/Frameworks/Python.framework/Versions/3.6/lib/python3.6/site-packages (from msrest) (2.22.0)\n",
      "Requirement already satisfied: six in /Library/Frameworks/Python.framework/Versions/3.6/lib/python3.6/site-packages (from isodate>=0.6.0->msrest) (1.12.0)\n",
      "Requirement already satisfied: oauthlib>=3.0.0 in /Library/Frameworks/Python.framework/Versions/3.6/lib/python3.6/site-packages (from requests-oauthlib>=0.5.0->msrest) (3.0.2)\n",
      "Requirement already satisfied: urllib3!=1.25.0,!=1.25.1,<1.26,>=1.21.1 in /Library/Frameworks/Python.framework/Versions/3.6/lib/python3.6/site-packages (from requests~=2.16->msrest) (1.25.3)\n",
      "Requirement already satisfied: idna<2.9,>=2.5 in /Library/Frameworks/Python.framework/Versions/3.6/lib/python3.6/site-packages (from requests~=2.16->msrest) (2.8)\n",
      "Requirement already satisfied: chardet<3.1.0,>=3.0.2 in /Library/Frameworks/Python.framework/Versions/3.6/lib/python3.6/site-packages (from requests~=2.16->msrest) (3.0.4)\n",
      "Requirement already satisfied: pillow in /Library/Frameworks/Python.framework/Versions/3.6/lib/python3.6/site-packages (6.1.0)\n"
     ]
    }
   ],
   "source": [
    "!pip install azure\n",
    "!pip install azure-cognitiveservices\n",
    "!pip install azure-cognitiveservices-search-imagesearch\n",
    "!pip install msrest\n",
    "!pip install pillow"
   ]
  },
  {
   "cell_type": "code",
   "execution_count": 3,
   "metadata": {},
   "outputs": [],
   "source": [
    "from azure.cognitiveservices.search import imagesearch\n",
    "from IPython import display\n",
    "from msrest import authentication\n",
    "from PIL import Image\n",
    "import requests"
   ]
  },
  {
   "cell_type": "code",
   "execution_count": 4,
   "metadata": {},
   "outputs": [],
   "source": [
    "image_search_subscription_key = \"118a07809b484ba1970d84f931f01437\""
   ]
  },
  {
   "cell_type": "markdown",
   "metadata": {},
   "source": [
    "Create an image search client."
   ]
  },
  {
   "cell_type": "code",
   "execution_count": 5,
   "metadata": {},
   "outputs": [],
   "source": [
    "cognitive_services_credentials = authentication.CognitiveServicesCredentials(image_search_subscription_key)\n",
    "client = imagesearch.ImageSearchAPI(cognitive_services_credentials)"
   ]
  },
  {
   "cell_type": "markdown",
   "metadata": {},
   "source": [
    "Do a search."
   ]
  },
  {
   "cell_type": "code",
   "execution_count": null,
   "metadata": {},
   "outputs": [],
   "source": [
    "search_term = \"hot dog\"\n",
    "search_results = client.images.search(query=search_term).value\n",
    "search_results"
   ]
  },
  {
   "cell_type": "code",
   "execution_count": 10,
   "metadata": {},
   "outputs": [
    {
     "data": {
      "text/plain": [
       "'https://tse2.mm.bing.net/th?id=OIP.WwNG0Db_o58XuR8uyHFGJQHaE8&pid=Api'"
      ]
     },
     "execution_count": 10,
     "metadata": {},
     "output_type": "execute_result"
    }
   ],
   "source": [
    "first_result = search_results[0]\n",
    "first_result.thumbnail_url"
   ]
  },
  {
   "cell_type": "code",
   "execution_count": 11,
   "metadata": {},
   "outputs": [
    {
     "data": {
      "text/html": [
       "<img src=\"https://tse2.mm.bing.net/th?id=OIP.WwNG0Db_o58XuR8uyHFGJQHaE8&pid=Api\" width=\"250\"/>"
      ],
      "text/plain": [
       "<IPython.core.display.Image object>"
      ]
     },
     "execution_count": 11,
     "metadata": {},
     "output_type": "execute_result"
    }
   ],
   "source": [
    "first_result = search_results[0]\n",
    "first_result_thumbnail_url = first_result.thumbnail_url\n",
    "display.Image(url=first_result_thumbnail_url, width = 250)"
   ]
  },
  {
   "cell_type": "code",
   "execution_count": 12,
   "metadata": {
    "scrolled": false
   },
   "outputs": [
    {
     "data": {
      "text/html": [
       "<img src=\"https://tse2.mm.bing.net/th?id=OIP.WwNG0Db_o58XuR8uyHFGJQHaE8&pid=Api\" width=\"250\"/>"
      ],
      "text/plain": [
       "<IPython.core.display.Image object>"
      ]
     },
     "metadata": {},
     "output_type": "display_data"
    },
    {
     "data": {
      "text/html": [
       "<img src=\"https://tse1.mm.bing.net/th?id=OIP.jta2oPfdv8zl07ZPfBLDwwHaDn&pid=Api\" width=\"250\"/>"
      ],
      "text/plain": [
       "<IPython.core.display.Image object>"
      ]
     },
     "metadata": {},
     "output_type": "display_data"
    },
    {
     "data": {
      "text/html": [
       "<img src=\"https://tse4.mm.bing.net/th?id=OIP.PTyXpXprHJrFsqqIVFJ9KgHaD4&pid=Api\" width=\"250\"/>"
      ],
      "text/plain": [
       "<IPython.core.display.Image object>"
      ]
     },
     "metadata": {},
     "output_type": "display_data"
    },
    {
     "data": {
      "text/html": [
       "<img src=\"https://tse2.mm.bing.net/th?id=OIP.QHEOpw8npesuG0h6ojJ0HwHaFj&pid=Api\" width=\"250\"/>"
      ],
      "text/plain": [
       "<IPython.core.display.Image object>"
      ]
     },
     "metadata": {},
     "output_type": "display_data"
    },
    {
     "data": {
      "text/html": [
       "<img src=\"https://tse2.mm.bing.net/th?id=OIP.ARvBFqKw6GqXWx1ownjP6AHaHa&pid=Api\" width=\"250\"/>"
      ],
      "text/plain": [
       "<IPython.core.display.Image object>"
      ]
     },
     "metadata": {},
     "output_type": "display_data"
    },
    {
     "data": {
      "text/html": [
       "<img src=\"https://tse2.mm.bing.net/th?id=OIP.VsCZ09mVlgAk4pvkEiAxJgHaEo&pid=Api\" width=\"250\"/>"
      ],
      "text/plain": [
       "<IPython.core.display.Image object>"
      ]
     },
     "metadata": {},
     "output_type": "display_data"
    },
    {
     "data": {
      "text/html": [
       "<img src=\"https://tse1.mm.bing.net/th?id=OIP.pS8cSI7BtasE3yIaY_VYmQHaE7&pid=Api\" width=\"250\"/>"
      ],
      "text/plain": [
       "<IPython.core.display.Image object>"
      ]
     },
     "metadata": {},
     "output_type": "display_data"
    },
    {
     "data": {
      "text/html": [
       "<img src=\"https://tse4.mm.bing.net/th?id=OIP.zKegz3x9xaHSO0fTIPaFIgHaFj&pid=Api\" width=\"250\"/>"
      ],
      "text/plain": [
       "<IPython.core.display.Image object>"
      ]
     },
     "metadata": {},
     "output_type": "display_data"
    },
    {
     "data": {
      "text/html": [
       "<img src=\"https://tse2.mm.bing.net/th?id=OIP.XkE1tcFPGvD8qPnCm0ozSgHaFY&pid=Api\" width=\"250\"/>"
      ],
      "text/plain": [
       "<IPython.core.display.Image object>"
      ]
     },
     "metadata": {},
     "output_type": "display_data"
    },
    {
     "data": {
      "text/html": [
       "<img src=\"https://tse2.mm.bing.net/th?id=OIP.Mni8GP6uuDoxyFgwQTij9QHaE8&pid=Api\" width=\"250\"/>"
      ],
      "text/plain": [
       "<IPython.core.display.Image object>"
      ]
     },
     "metadata": {},
     "output_type": "display_data"
    },
    {
     "data": {
      "text/html": [
       "<img src=\"https://tse3.mm.bing.net/th?id=OIP.1Xkr3YbMeVXI-QJL8w6AigHaDt&pid=Api\" width=\"250\"/>"
      ],
      "text/plain": [
       "<IPython.core.display.Image object>"
      ]
     },
     "metadata": {},
     "output_type": "display_data"
    },
    {
     "data": {
      "text/html": [
       "<img src=\"https://tse1.mm.bing.net/th?id=OIP.C61fs_CS561x22-KPR6OfgHaE8&pid=Api\" width=\"250\"/>"
      ],
      "text/plain": [
       "<IPython.core.display.Image object>"
      ]
     },
     "metadata": {},
     "output_type": "display_data"
    },
    {
     "data": {
      "text/html": [
       "<img src=\"https://tse2.mm.bing.net/th?id=OIP.CqFnWJzIGGDmodEWZ0Mw2AHaJu&pid=Api\" width=\"250\"/>"
      ],
      "text/plain": [
       "<IPython.core.display.Image object>"
      ]
     },
     "metadata": {},
     "output_type": "display_data"
    },
    {
     "data": {
      "text/html": [
       "<img src=\"https://tse2.mm.bing.net/th?id=OIP.iYW0jzzhivgNEANCUn4C9QHaFj&pid=Api\" width=\"250\"/>"
      ],
      "text/plain": [
       "<IPython.core.display.Image object>"
      ]
     },
     "metadata": {},
     "output_type": "display_data"
    },
    {
     "data": {
      "text/html": [
       "<img src=\"https://tse1.mm.bing.net/th?id=OIP.o5oaQ5gL5Gu-znYKkiXcAAHaJ3&pid=Api\" width=\"250\"/>"
      ],
      "text/plain": [
       "<IPython.core.display.Image object>"
      ]
     },
     "metadata": {},
     "output_type": "display_data"
    },
    {
     "data": {
      "text/html": [
       "<img src=\"https://tse2.mm.bing.net/th?id=OIP.b7gaP88IQPpxPbQBVgLN-wHaF-&pid=Api\" width=\"250\"/>"
      ],
      "text/plain": [
       "<IPython.core.display.Image object>"
      ]
     },
     "metadata": {},
     "output_type": "display_data"
    },
    {
     "data": {
      "text/html": [
       "<img src=\"https://tse2.mm.bing.net/th?id=OIP.uBEUhgQJXywcMqfnksuUPQHaE8&pid=Api\" width=\"250\"/>"
      ],
      "text/plain": [
       "<IPython.core.display.Image object>"
      ]
     },
     "metadata": {},
     "output_type": "display_data"
    },
    {
     "data": {
      "text/html": [
       "<img src=\"https://tse2.mm.bing.net/th?id=OIP.SB2NDYVj1j0m_oH246YpFQHaFj&pid=Api\" width=\"250\"/>"
      ],
      "text/plain": [
       "<IPython.core.display.Image object>"
      ]
     },
     "metadata": {},
     "output_type": "display_data"
    },
    {
     "data": {
      "text/html": [
       "<img src=\"https://tse1.mm.bing.net/th?id=OIP.KlIdc6dzJWRT-BJMafj13gHaE8&pid=Api\" width=\"250\"/>"
      ],
      "text/plain": [
       "<IPython.core.display.Image object>"
      ]
     },
     "metadata": {},
     "output_type": "display_data"
    },
    {
     "data": {
      "text/html": [
       "<img src=\"https://tse3.mm.bing.net/th?id=OIP.-yvF3QO1-cb86lrhm6mgAQHaFj&pid=Api\" width=\"250\"/>"
      ],
      "text/plain": [
       "<IPython.core.display.Image object>"
      ]
     },
     "metadata": {},
     "output_type": "display_data"
    },
    {
     "data": {
      "text/html": [
       "<img src=\"https://tse4.mm.bing.net/th?id=OIP.lP17IkfeYAfSOuUjBX71HwHaEK&pid=Api\" width=\"250\"/>"
      ],
      "text/plain": [
       "<IPython.core.display.Image object>"
      ]
     },
     "metadata": {},
     "output_type": "display_data"
    },
    {
     "data": {
      "text/html": [
       "<img src=\"https://tse4.mm.bing.net/th?id=OIP.uovloOsMkI8LfzTheiLThQHaE6&pid=Api\" width=\"250\"/>"
      ],
      "text/plain": [
       "<IPython.core.display.Image object>"
      ]
     },
     "metadata": {},
     "output_type": "display_data"
    },
    {
     "data": {
      "text/html": [
       "<img src=\"https://tse1.mm.bing.net/th?id=OIP.z80p_MfU9uE2WFFLf9zz-QHaL_&pid=Api\" width=\"250\"/>"
      ],
      "text/plain": [
       "<IPython.core.display.Image object>"
      ]
     },
     "metadata": {},
     "output_type": "display_data"
    },
    {
     "data": {
      "text/html": [
       "<img src=\"https://tse3.mm.bing.net/th?id=OIP.671qFwcvBe-a6rQ91NrxIAHaFj&pid=Api\" width=\"250\"/>"
      ],
      "text/plain": [
       "<IPython.core.display.Image object>"
      ]
     },
     "metadata": {},
     "output_type": "display_data"
    },
    {
     "data": {
      "text/html": [
       "<img src=\"https://tse4.mm.bing.net/th?id=OIP.iub0Zm85XzRpGQEABroPxAHaFb&pid=Api\" width=\"250\"/>"
      ],
      "text/plain": [
       "<IPython.core.display.Image object>"
      ]
     },
     "metadata": {},
     "output_type": "display_data"
    },
    {
     "data": {
      "text/html": [
       "<img src=\"https://tse1.mm.bing.net/th?id=OIP.eEhPxHfrYMfWfoEIfNx0BwHaE5&pid=Api\" width=\"250\"/>"
      ],
      "text/plain": [
       "<IPython.core.display.Image object>"
      ]
     },
     "metadata": {},
     "output_type": "display_data"
    },
    {
     "data": {
      "text/html": [
       "<img src=\"https://tse1.mm.bing.net/th?id=OIP.eorVTCrqylud5WldcMDhhAHaE7&pid=Api\" width=\"250\"/>"
      ],
      "text/plain": [
       "<IPython.core.display.Image object>"
      ]
     },
     "metadata": {},
     "output_type": "display_data"
    },
    {
     "data": {
      "text/html": [
       "<img src=\"https://tse2.mm.bing.net/th?id=OIP.50W4tGyn6V1BJISEll3DfAHaDt&pid=Api\" width=\"250\"/>"
      ],
      "text/plain": [
       "<IPython.core.display.Image object>"
      ]
     },
     "metadata": {},
     "output_type": "display_data"
    },
    {
     "data": {
      "text/html": [
       "<img src=\"https://tse4.mm.bing.net/th?id=OIP.GZs8c-LLkALWH2CZaFB3dwHaE8&pid=Api\" width=\"250\"/>"
      ],
      "text/plain": [
       "<IPython.core.display.Image object>"
      ]
     },
     "metadata": {},
     "output_type": "display_data"
    },
    {
     "data": {
      "text/html": [
       "<img src=\"https://tse1.mm.bing.net/th?id=OIP.p2oy57Pt-J4DoguazNYEoQHaFj&pid=Api\" width=\"250\"/>"
      ],
      "text/plain": [
       "<IPython.core.display.Image object>"
      ]
     },
     "metadata": {},
     "output_type": "display_data"
    },
    {
     "data": {
      "text/html": [
       "<img src=\"https://tse3.mm.bing.net/th?id=OIP.YBYH4G4mxE-2OjrkxZ2RRQHaE7&pid=Api\" width=\"250\"/>"
      ],
      "text/plain": [
       "<IPython.core.display.Image object>"
      ]
     },
     "metadata": {},
     "output_type": "display_data"
    },
    {
     "data": {
      "text/html": [
       "<img src=\"https://tse2.mm.bing.net/th?id=OIP.3UwphaVZngUhJDDvYyD0OwHaJ4&pid=Api\" width=\"250\"/>"
      ],
      "text/plain": [
       "<IPython.core.display.Image object>"
      ]
     },
     "metadata": {},
     "output_type": "display_data"
    },
    {
     "data": {
      "text/html": [
       "<img src=\"https://tse1.mm.bing.net/th?id=OIP.--dyx4j5C9cTfF9Q2nQNXwHaLH&pid=Api\" width=\"250\"/>"
      ],
      "text/plain": [
       "<IPython.core.display.Image object>"
      ]
     },
     "metadata": {},
     "output_type": "display_data"
    },
    {
     "data": {
      "text/html": [
       "<img src=\"https://tse3.mm.bing.net/th?id=OIP.hoN2EUT9LIo5bgrfftPJdgHaLH&pid=Api\" width=\"250\"/>"
      ],
      "text/plain": [
       "<IPython.core.display.Image object>"
      ]
     },
     "metadata": {},
     "output_type": "display_data"
    },
    {
     "data": {
      "text/html": [
       "<img src=\"https://tse4.mm.bing.net/th?id=OIP.nyeCAbLzFawlirQL_rJ1eAHaFj&pid=Api\" width=\"250\"/>"
      ],
      "text/plain": [
       "<IPython.core.display.Image object>"
      ]
     },
     "metadata": {},
     "output_type": "display_data"
    }
   ],
   "source": [
    "images = [display.Image(url=result.thumbnail_url, width=250) for result in search_results]\n",
    "display.display(*images)"
   ]
  },
  {
   "cell_type": "code",
   "execution_count": null,
   "metadata": {},
   "outputs": [],
   "source": []
  }
 ],
 "metadata": {
  "kernelspec": {
   "display_name": "Python 3",
   "language": "python",
   "name": "python3"
  },
  "language_info": {
   "codemirror_mode": {
    "name": "ipython",
    "version": 3
   },
   "file_extension": ".py",
   "mimetype": "text/x-python",
   "name": "python",
   "nbconvert_exporter": "python",
   "pygments_lexer": "ipython3",
   "version": "3.6.4"
  }
 },
 "nbformat": 4,
 "nbformat_minor": 2
}
