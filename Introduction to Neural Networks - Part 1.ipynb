{
 "cells": [
  {
   "cell_type": "code",
   "execution_count": null,
   "metadata": {},
   "outputs": [],
   "source": []
  },
  {
   "cell_type": "markdown",
   "metadata": {},
   "source": [
    "# Neural Networks in Tensorflow\n",
    "\n",
    "In Tensorflow, a neural network is represented by a graph, which is sometimes called an Execution Graph. This is a graph in the traditional sense, that is, comprised of nodes and edges.\n",
    "\n",
    "The nodes of the graph are instances of the `tensorflow.Variable` and `tensorflow.Operation` classes. The edges of the graph are represented by `tensorflow.Tensor` objects.\n",
    "\n",
    "## Deferred Execution\n",
    "\n",
    "Most computation takes place on the stack, as code is evaluated, and so is short-lived. Code is parsed and interpreted, execution occurs, results are stored, and the representation is disposed of.\n",
    "\n",
    "Although this is generally an efficient way to specify computation, we do not always want to dispose of our computation as we go along. It is sometimes the case that we want to analyze our computation, or in other words, transform the computation itself, as data.\n",
    "\n",
    "Whereas the first mode of evaluation (short lived, stack-based) is called **eager** evaluation, the mode of evaluation we desire is called **deferred**, or lazy evaluation.\n",
    "\n",
    "But Python is an eager language. How then do we achieve deferred computation, when the Python interpreter is designed to eagerly evaluate all of our code? We do so by using **Objects**.\n",
    "\n",
    "Objects are long-lived data structures. They do not reside in the stack, and so they do not disappear when computations are completed. They instead reside in the **heap**, and they effectively live forever (or until they are forgotten).\n",
    "\n",
    "Thus, we represent deferred computations as instances of classes. Specifically, the topmost representation of a deferred computation in Tensorflow is a graph.\n",
    "\n",
    "Graphs have many advantages.\n",
    "\n",
    "1. A graph can be loaded, saved, and rebuilt at will.\n",
    "2. Execution of a graph can be triggered at any time.\n",
    "3. A graph can be submitted to different back-ends for processing (GPUs, TPUs, Mapreduce, etc).\n",
    "4. Graphs can track the state of an iterative process (Memory reuse).\n",
    "\n",
    "A graph is composed of nodes and edges. In tensorflow, the nodes are represented by instances of the `tensorflow.Variable` and `tensorflow.Operation` classes. The edges are represented by instances of the `tensorflow.Tensor` class."
   ]
  },
  {
   "cell_type": "code",
   "execution_count": 1,
   "metadata": {},
   "outputs": [],
   "source": [
    "import tensorflow\n",
    "\n",
    "# Use revision 1 for now.\n",
    "if int(tensorflow.__version__[0]) > 1:\n",
    "    import tensorflow.compat.v1 as tensorflow\n",
    "else:\n",
    "    import tensorflow\n",
    "    \n",
    "tensorflow.disable_eager_execution()"
   ]
  },
  {
   "cell_type": "markdown",
   "metadata": {},
   "source": [
    "Instantiate a new graph."
   ]
  },
  {
   "cell_type": "code",
   "execution_count": 2,
   "metadata": {},
   "outputs": [
    {
     "data": {
      "text/plain": [
       "<tensorflow.python.framework.ops.Graph at 0x1088e1240>"
      ]
     },
     "execution_count": 2,
     "metadata": {},
     "output_type": "execute_result"
    }
   ],
   "source": [
    "g = tensorflow.Graph()\n",
    "g"
   ]
  },
  {
   "cell_type": "markdown",
   "metadata": {},
   "source": [
    "## Variables and Operations as Nodes\n",
    "\n",
    "The nodes of a Tensorflow graph are instances of `tensorflow.Variable` and `tensorflow.Operation`.\n",
    "\n",
    "### Variables\n",
    "\n",
    "The `tensorflow.Variable` class creates an object that tracks a single tensor.\n",
    "\n",
    "A `tensorflow.Variable` object is created with a function that generates an *initial value*."
   ]
  },
  {
   "cell_type": "code",
   "execution_count": 3,
   "metadata": {},
   "outputs": [
    {
     "data": {
      "text/plain": [
       "<tf.Variable 'Variable:0' shape=() dtype=float32>"
      ]
     },
     "execution_count": 3,
     "metadata": {},
     "output_type": "execute_result"
    }
   ],
   "source": [
    "import random\n",
    "\n",
    "v = tensorflow.Variable(random.random)\n",
    "v"
   ]
  },
  {
   "cell_type": "markdown",
   "metadata": {},
   "source": [
    "Notice that the representation of `v` gives no indication of what its stored value is. This is because the initializer hasn't been run yet, and the variable is still *uninitialized*."
   ]
  },
  {
   "cell_type": "markdown",
   "metadata": {},
   "source": [
    "When we create `Variable` and `Operation` objects, they are always associated to a graph. If there is no graph explicitly declared, they are associated to a hidden, default graph."
   ]
  },
  {
   "cell_type": "code",
   "execution_count": 4,
   "metadata": {},
   "outputs": [
    {
     "data": {
      "text/plain": [
       "<tensorflow.python.framework.ops.Graph at 0x13da5b2e8>"
      ]
     },
     "execution_count": 4,
     "metadata": {},
     "output_type": "execute_result"
    }
   ],
   "source": [
    "v.graph"
   ]
  },
  {
   "cell_type": "code",
   "execution_count": 5,
   "metadata": {},
   "outputs": [
    {
     "data": {
      "text/plain": [
       "True"
      ]
     },
     "execution_count": 5,
     "metadata": {},
     "output_type": "execute_result"
    }
   ],
   "source": [
    "v.graph != g"
   ]
  },
  {
   "cell_type": "markdown",
   "metadata": {},
   "source": [
    "If we want to associate a variable or object to a particular graph, we use the graph as a *context*."
   ]
  },
  {
   "cell_type": "code",
   "execution_count": 6,
   "metadata": {},
   "outputs": [
    {
     "data": {
      "text/plain": [
       "True"
      ]
     },
     "execution_count": 6,
     "metadata": {},
     "output_type": "execute_result"
    }
   ],
   "source": [
    "# Declare v in the context of g.\n",
    "\n",
    "with g.as_default():\n",
    "    v = tensorflow.Variable(random.random)\n",
    "\n",
    "v.graph == g"
   ]
  },
  {
   "cell_type": "markdown",
   "metadata": {},
   "source": [
    "Aside: If your initializer is a constant function, you can simply pass the constant, and the backend will create an initializer function for it."
   ]
  },
  {
   "cell_type": "code",
   "execution_count": 7,
   "metadata": {},
   "outputs": [
    {
     "data": {
      "text/plain": [
       "<tf.Variable 'Variable_1:0' shape=(3,) dtype=float32>"
      ]
     },
     "execution_count": 7,
     "metadata": {},
     "output_type": "execute_result"
    }
   ],
   "source": [
    "with g.as_default():\n",
    "    u = tensorflow.Variable([1.0, 2.0, 3.0])\n",
    "u"
   ]
  },
  {
   "cell_type": "markdown",
   "metadata": {},
   "source": [
    "### Operations\n",
    "\n",
    "An operation is a tensor mapping."
   ]
  },
  {
   "cell_type": "code",
   "execution_count": 8,
   "metadata": {},
   "outputs": [
    {
     "data": {
      "text/plain": [
       "<tf.Tensor 'Mul:0' shape=(3,) dtype=float32>"
      ]
     },
     "execution_count": 8,
     "metadata": {},
     "output_type": "execute_result"
    }
   ],
   "source": [
    "with g.as_default():\n",
    "    scaled = tensorflow.math.scalar_mul(v, u)\n",
    "\n",
    "scaled"
   ]
  },
  {
   "cell_type": "markdown",
   "metadata": {},
   "source": [
    "You may have expected `scaled` to be of type `tensorflow.Operation`. In fact, an operation is in 1-1 correspondence with its output tensor, so they are somewhat interchangeable. In the case of tensorflow, the tensor is returned, and the Operation is stored as an attribute of the tensor."
   ]
  },
  {
   "cell_type": "code",
   "execution_count": 9,
   "metadata": {},
   "outputs": [
    {
     "data": {
      "text/plain": [
       "<tf.Operation 'Mul' type=Mul>"
      ]
     },
     "execution_count": 9,
     "metadata": {},
     "output_type": "execute_result"
    }
   ],
   "source": [
    "scaled.op"
   ]
  },
  {
   "cell_type": "code",
   "execution_count": 10,
   "metadata": {},
   "outputs": [
    {
     "data": {
      "text/plain": [
       "<tf.Operation 'norm/Squeeze' type=Squeeze>"
      ]
     },
     "execution_count": 10,
     "metadata": {},
     "output_type": "execute_result"
    }
   ],
   "source": [
    "with g.as_default():\n",
    "    normed = tensorflow.norm(scaled)\n",
    "\n",
    "normed.op"
   ]
  },
  {
   "cell_type": "markdown",
   "metadata": {},
   "source": [
    "In Python, the arithmetic operators are overrideable. Because of this, tensorflow operators are built into the arithmetic ones, so you don't have to call, for instance, `tensorflow.math.scalar_mul`."
   ]
  },
  {
   "cell_type": "code",
   "execution_count": 11,
   "metadata": {},
   "outputs": [
    {
     "data": {
      "text/plain": [
       "<tf.Operation 'mul_1' type=Mul>"
      ]
     },
     "execution_count": 11,
     "metadata": {},
     "output_type": "execute_result"
    }
   ],
   "source": [
    "with g.as_default():\n",
    "    scaled_again = v * u\n",
    "\n",
    "scaled_again.op"
   ]
  },
  {
   "cell_type": "markdown",
   "metadata": {},
   "source": [
    "## Example: Changing from Polar to Cartesian Coordinates"
   ]
  },
  {
   "cell_type": "markdown",
   "metadata": {},
   "source": [
    "The conversion from polar to cartesian coordinates is as follows:\n",
    "\n",
    "$$\n",
    "\\begin{array}{rcl}\n",
    "x &=& r \\cdot \\sin(\\theta) \\cdot \\cos(\\varphi)\\\\\n",
    "y &=& r \\cdot \\sin(\\theta) \\cdot \\sin(\\varphi)\\\\\n",
    "z &=& r \\cdot \\cos(\\theta)\n",
    "\\end{array}\n",
    "$$\n",
    "\n",
    "In code:"
   ]
  },
  {
   "cell_type": "code",
   "execution_count": 12,
   "metadata": {},
   "outputs": [],
   "source": [
    "sin = tensorflow.math.sin\n",
    "cos = tensorflow.math.cos\n",
    "\n",
    "def polar_to_cartesian(r, theta, phi):\n",
    "    \"\"\"Convert polar coordinates (r, theta, phi) to cartesian coordinates, (x, y, z)\"\"\"\n",
    "    x = r * sin(theta) * cos(phi)\n",
    "    y = r * sin(theta) * sin(phi)\n",
    "    z = r * cos(theta)\n",
    "    return (x, y, z)"
   ]
  },
  {
   "cell_type": "markdown",
   "metadata": {},
   "source": [
    "## Visualization\n",
    "\n",
    "We can use TensorBoard to visualize an execution graph.\n",
    "\n",
    "Let's visualize the `polar_to_cartesian` execution graph. To do so, we'll create a new graph, and then write it using `tensorflow.summary.FileWriter`."
   ]
  },
  {
   "cell_type": "code",
   "execution_count": 13,
   "metadata": {},
   "outputs": [],
   "source": [
    "ptc_graph = tensorflow.Graph()\n",
    "\n",
    "with ptc_graph.as_default():\n",
    "    x = tensorflow.Variable(random.random)\n",
    "    y = tensorflow.Variable(random.random)\n",
    "    z = tensorflow.Variable(random.random)\n",
    "    r, theta, phi = polar_to_cartesian(x,y,z)"
   ]
  },
  {
   "cell_type": "code",
   "execution_count": 14,
   "metadata": {},
   "outputs": [
    {
     "data": {
      "text/plain": [
       "<tensorflow.python.summary.writer.writer.FileWriter at 0x13daaaf98>"
      ]
     },
     "execution_count": 14,
     "metadata": {},
     "output_type": "execute_result"
    }
   ],
   "source": [
    "tensorboard_dir = \"tensorboard\"\n",
    "\n",
    "!mkdir -p {tensorboard_dir}\n",
    "!rm {tensorboard_dir}/*\n",
    "\n",
    "tensorflow.summary.FileWriter(tensorboard_dir, ptc_graph)"
   ]
  },
  {
   "cell_type": "code",
   "execution_count": 15,
   "metadata": {},
   "outputs": [
    {
     "data": {
      "text/plain": [
       "Reusing TensorBoard on port 6008 (pid 69023), started 10:10:30 ago. (Use '!kill 69023' to kill it.)"
      ]
     },
     "metadata": {},
     "output_type": "display_data"
    },
    {
     "data": {
      "text/html": [
       "\n",
       "        <iframe\n",
       "            width=\"100%\"\n",
       "            height=\"800\"\n",
       "            src=\"http://localhost:6008\"\n",
       "            frameborder=\"0\"\n",
       "            allowfullscreen\n",
       "        ></iframe>\n",
       "        "
      ],
      "text/plain": [
       "<IPython.lib.display.IFrame at 0x13daaac18>"
      ]
     },
     "metadata": {},
     "output_type": "display_data"
    }
   ],
   "source": [
    "%load_ext tensorboard\n",
    "%tensorboard --logdir {tensorboard_dir}"
   ]
  },
  {
   "cell_type": "markdown",
   "metadata": {},
   "source": [
    "## Running a graph\n",
    "\n",
    "We use a session to run a graph."
   ]
  },
  {
   "cell_type": "code",
   "execution_count": 19,
   "metadata": {},
   "outputs": [
    {
     "name": "stdout",
     "output_type": "stream",
     "text": [
      "Results:\n",
      "  Input vector: [r, theta, phi] = [1.0, 1.5707964, 3.1415927]\n",
      "  Output vector: [x, y, z] = [-1.0, -8.742278e-08, -4.371139e-08]\n",
      "\n"
     ]
    }
   ],
   "source": [
    "import math\n",
    "\n",
    "with ptc_graph.as_default():\n",
    "    \n",
    "    # Give [r, theta, phi] some more predictable values\n",
    "    r = tensorflow.Variable(1.0)\n",
    "    theta = tensorflow.Variable(math.pi / 2.0)\n",
    "    phi = tensorflow.Variable(math.pi)\n",
    "    \n",
    "    # Redefine [x,y,z] with the new variables\n",
    "    x, y, z = polar_to_cartesian(r, theta, phi)\n",
    "    \n",
    "    with tensorflow.Session() as session:\n",
    "        \n",
    "        # Make sure all of the variables are initialized.\n",
    "        session.run(tensorflow.global_variables_initializer())\n",
    "        \n",
    "        # You can pass a tensor of variables to session.run to evaluate them all at once.\n",
    "        input_vector, output_vector = session.run(([x,y,z], [r,theta,phi]))\n",
    "        \n",
    "        print(\"Results:\")\n",
    "        print(\"  Input vector: [r, theta, phi] = %r\" % output_vector)\n",
    "        print(\"  Output vector: [x, y, z] = %r\\n\" % input_vector)  "
   ]
  },
  {
   "cell_type": "code",
   "execution_count": null,
   "metadata": {},
   "outputs": [],
   "source": []
  },
  {
   "cell_type": "code",
   "execution_count": null,
   "metadata": {},
   "outputs": [],
   "source": []
  },
  {
   "cell_type": "code",
   "execution_count": null,
   "metadata": {},
   "outputs": [],
   "source": []
  }
 ],
 "metadata": {
  "kernelspec": {
   "display_name": "Python 3",
   "language": "python",
   "name": "python3"
  },
  "language_info": {
   "codemirror_mode": {
    "name": "ipython",
    "version": 3
   },
   "file_extension": ".py",
   "mimetype": "text/x-python",
   "name": "python",
   "nbconvert_exporter": "python",
   "pygments_lexer": "ipython3",
   "version": "3.6.4"
  }
 },
 "nbformat": 4,
 "nbformat_minor": 2
}
